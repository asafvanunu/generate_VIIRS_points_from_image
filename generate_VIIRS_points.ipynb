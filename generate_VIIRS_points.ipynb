{
 "cells": [
  {
   "cell_type": "markdown",
   "metadata": {},
   "source": [
    "# Generate VIIRS points\n",
    "\n",
    "**Name:** Asaf Vanunu  \n",
    "**Date:** July 31, 2024\n",
    "\n",
    "## Description\n",
    "This script takes VIIRS fire product and geolocation files and create VIIRS shapefile points\n"
   ]
  },
  {
   "cell_type": "markdown",
   "metadata": {},
   "source": [
    "* Import libraries"
   ]
  },
  {
   "cell_type": "code",
   "execution_count": 1,
   "metadata": {},
   "outputs": [],
   "source": [
    "import GOES_VIIRS_tools\n",
    "import os\n",
    "import pandas as pd\n",
    "import numpy as np"
   ]
  },
  {
   "cell_type": "markdown",
   "metadata": {},
   "source": [
    "* set path"
   ]
  },
  {
   "cell_type": "code",
   "execution_count": 2,
   "metadata": {},
   "outputs": [],
   "source": [
    "VIIRS_fire_product_dir = \"F:\\\\VIIRS_data\\\\VIIRS_fire\"\n",
    "VIIRS_geolocation_dir = \"F:\\\\VIIRS_data\\\\VIIRS_GEO\""
   ]
  },
  {
   "cell_type": "markdown",
   "metadata": {},
   "source": [
    "* Create a file list for the fire and geolocation products"
   ]
  },
  {
   "cell_type": "code",
   "execution_count": 3,
   "metadata": {},
   "outputs": [
    {
     "name": "stdout",
     "output_type": "stream",
     "text": [
      "F:\\VIIRS_data\\VIIRS_fire\\VNP14IMG.A2022182.0906.001.2022183034226.nc\n",
      "F:\\VIIRS_data\\VIIRS_GEO\\VNP03IMG.A2022182.0906.002.2022182155401.nc\n"
     ]
    }
   ],
   "source": [
    "## Get the list of VIIRS fire and geolocation files\n",
    "VIIRS_fire_files = [os.path.join(VIIRS_fire_product_dir, fire_file) for fire_file in os.listdir(VIIRS_fire_product_dir) if fire_file.endswith(\"nc\")]\n",
    "VIIRS_geolocation_files = [os.path.join(VIIRS_geolocation_dir, geo_file) for geo_file in os.listdir(VIIRS_geolocation_dir) if geo_file.endswith(\"nc\")]\n",
    "print(VIIRS_fire_files[0]) \n",
    "print(VIIRS_geolocation_files[0])"
   ]
  },
  {
   "cell_type": "markdown",
   "metadata": {},
   "source": [
    "- Now we need to create a matching list of VIIRS fire files to VIIRS geolocation files\n",
    "- We will start by creating a function the filter matching VIIRS "
   ]
  },
  {
   "cell_type": "code",
   "execution_count": 4,
   "metadata": {},
   "outputs": [],
   "source": [
    "def get_unique_id_from_VIIRS_file(VIIRS_file):\n",
    "    \"\"\"This function extracts the unique ID from the VIIRS file name. This is for example A2022182.0906\n",
    "\n",
    "    Args:\n",
    "        VIIRS_file (string): The VIIRS file name\n",
    "    \"\"\"\n",
    "    VIIRS_file_split = VIIRS_file.split(\"\\\\\") ## Split the file path\n",
    "    VIIRS_file_name = VIIRS_file_split[-1] ## Get the file name\n",
    "    VIIRS_file_name_split = VIIRS_file_name.split(\".\") ## Split the file name\n",
    "    VIIRS_unique_id = VIIRS_file_name_split[1] ## Get the unique ID\n",
    "    VIIRS_unique_time = VIIRS_file_name_split[2] ## Get the unique time\n",
    "    \n",
    "    out_string = f\"{VIIRS_unique_id}.{VIIRS_unique_time}\" ## Create the output string\n",
    "    return out_string\n",
    "    "
   ]
  },
  {
   "cell_type": "code",
   "execution_count": 5,
   "metadata": {},
   "outputs": [
    {
     "name": "stdout",
     "output_type": "stream",
     "text": [
      "A2022182.0906\n",
      "A2022182.0906\n"
     ]
    }
   ],
   "source": [
    "print(get_unique_id_from_VIIRS_file(VIIRS_fire_files[0]))\n",
    "print(get_unique_id_from_VIIRS_file(VIIRS_geolocation_files[0]))"
   ]
  },
  {
   "cell_type": "markdown",
   "metadata": {},
   "source": [
    "* Now we will create the matching lists"
   ]
  },
  {
   "cell_type": "code",
   "execution_count": 6,
   "metadata": {},
   "outputs": [],
   "source": [
    "matching_VIIRS_fires = [] ## List to store the matching VIIRS fire files\n",
    "matching_VIIRS_geolocations = [] ## List to store the matching VIIRS geolocation files\n",
    "geo_files_unique_ids = list(map(get_unique_id_from_VIIRS_file, VIIRS_geolocation_files)) ## Get the unique IDs of the geolocation files\n",
    "\n",
    "for i in range(len(VIIRS_fire_files)): ## Loop through the VIIRS fire files\n",
    "    VIIRS_fire_unique_id = get_unique_id_from_VIIRS_file(VIIRS_fire_files[i]) ## Get the unique ID of the VIIRS fire file\n",
    "    VIIRS_fire_file_condition = np.isin(VIIRS_fire_unique_id, geo_files_unique_ids) ## Check if the unique ID is in the list of unique IDs\n",
    "    if VIIRS_fire_file_condition: ## If the unique ID is in the list of unique IDs\n",
    "        matching_VIIRS_fires.append(VIIRS_fire_files[i]) ## Append the matching VIIRS fire file\n",
    "        matching_VIIRS_geolocations.append(VIIRS_geolocation_files[geo_files_unique_ids.index(VIIRS_fire_unique_id)]) ## Append the matching VIIRS geolocation file"
   ]
  },
  {
   "cell_type": "markdown",
   "metadata": {},
   "source": [
    "* Now we will see if the two lists are matching"
   ]
  },
  {
   "cell_type": "code",
   "execution_count": 7,
   "metadata": {},
   "outputs": [
    {
     "name": "stdout",
     "output_type": "stream",
     "text": [
      "All the matching VIIRS fire and geolocation files have the same unique ID.\n"
     ]
    }
   ],
   "source": [
    "con_list = [] ## List to store the conditions\n",
    "if len(matching_VIIRS_fires) == len(matching_VIIRS_geolocations): ## Check if the number of matching VIIRS fire and geolocation files is the same\n",
    "    for i in range(len(matching_VIIRS_fires)): ## Loop through the matching VIIRS fire and geolocation files\n",
    "        unique_fire_id = get_unique_id_from_VIIRS_file(matching_VIIRS_fires[i]) ## Get the unique ID of the VIIRS fire file\n",
    "        unique_geo_id = get_unique_id_from_VIIRS_file(matching_VIIRS_geolocations[i]) ## Get the unique ID of the VIIRS geolocation file\n",
    "        con_list.append(unique_fire_id == unique_geo_id) ## Append the condition to the list\n",
    "else: ## If the number of matching VIIRS fire and geolocation files is not the same\n",
    "    print(\"The number of matching VIIRS fire and geolocation files is not the same. This is an error.\")\n",
    "    \n",
    "if np.all(con_list): ## Check if all the conditions are true\n",
    "    print(\"All the matching VIIRS fire and geolocation files have the same unique ID.\")\n",
    "else:\n",
    "    print(\"Not all the matching VIIRS fire and geolocation files have the same unique ID.\")\n",
    "        "
   ]
  },
  {
   "cell_type": "markdown",
   "metadata": {},
   "source": [
    "* Now we can create pandas dataframe for the files locations"
   ]
  },
  {
   "cell_type": "code",
   "execution_count": 8,
   "metadata": {},
   "outputs": [
    {
     "data": {
      "text/html": [
       "<div>\n",
       "<style scoped>\n",
       "    .dataframe tbody tr th:only-of-type {\n",
       "        vertical-align: middle;\n",
       "    }\n",
       "\n",
       "    .dataframe tbody tr th {\n",
       "        vertical-align: top;\n",
       "    }\n",
       "\n",
       "    .dataframe thead th {\n",
       "        text-align: right;\n",
       "    }\n",
       "</style>\n",
       "<table border=\"1\" class=\"dataframe\">\n",
       "  <thead>\n",
       "    <tr style=\"text-align: right;\">\n",
       "      <th></th>\n",
       "      <th>VIIRS_fire_files</th>\n",
       "      <th>VIIRS_geolocation_files</th>\n",
       "    </tr>\n",
       "  </thead>\n",
       "  <tbody>\n",
       "    <tr>\n",
       "      <th>0</th>\n",
       "      <td>F:\\VIIRS_data\\VIIRS_fire\\VNP14IMG.A2022182.090...</td>\n",
       "      <td>F:\\VIIRS_data\\VIIRS_GEO\\VNP03IMG.A2022182.0906...</td>\n",
       "    </tr>\n",
       "    <tr>\n",
       "      <th>1</th>\n",
       "      <td>F:\\VIIRS_data\\VIIRS_fire\\VNP14IMG.A2022182.091...</td>\n",
       "      <td>F:\\VIIRS_data\\VIIRS_GEO\\VNP03IMG.A2022182.0912...</td>\n",
       "    </tr>\n",
       "    <tr>\n",
       "      <th>2</th>\n",
       "      <td>F:\\VIIRS_data\\VIIRS_fire\\VNP14IMG.A2022182.104...</td>\n",
       "      <td>F:\\VIIRS_data\\VIIRS_GEO\\VNP03IMG.A2022182.1048...</td>\n",
       "    </tr>\n",
       "    <tr>\n",
       "      <th>3</th>\n",
       "      <td>F:\\VIIRS_data\\VIIRS_fire\\VNP14IMG.A2022182.105...</td>\n",
       "      <td>F:\\VIIRS_data\\VIIRS_GEO\\VNP03IMG.A2022182.1054...</td>\n",
       "    </tr>\n",
       "    <tr>\n",
       "      <th>4</th>\n",
       "      <td>F:\\VIIRS_data\\VIIRS_fire\\VNP14IMG.A2022182.185...</td>\n",
       "      <td>F:\\VIIRS_data\\VIIRS_GEO\\VNP03IMG.A2022182.1854...</td>\n",
       "    </tr>\n",
       "  </tbody>\n",
       "</table>\n",
       "</div>"
      ],
      "text/plain": [
       "                                    VIIRS_fire_files  \\\n",
       "0  F:\\VIIRS_data\\VIIRS_fire\\VNP14IMG.A2022182.090...   \n",
       "1  F:\\VIIRS_data\\VIIRS_fire\\VNP14IMG.A2022182.091...   \n",
       "2  F:\\VIIRS_data\\VIIRS_fire\\VNP14IMG.A2022182.104...   \n",
       "3  F:\\VIIRS_data\\VIIRS_fire\\VNP14IMG.A2022182.105...   \n",
       "4  F:\\VIIRS_data\\VIIRS_fire\\VNP14IMG.A2022182.185...   \n",
       "\n",
       "                             VIIRS_geolocation_files  \n",
       "0  F:\\VIIRS_data\\VIIRS_GEO\\VNP03IMG.A2022182.0906...  \n",
       "1  F:\\VIIRS_data\\VIIRS_GEO\\VNP03IMG.A2022182.0912...  \n",
       "2  F:\\VIIRS_data\\VIIRS_GEO\\VNP03IMG.A2022182.1048...  \n",
       "3  F:\\VIIRS_data\\VIIRS_GEO\\VNP03IMG.A2022182.1054...  \n",
       "4  F:\\VIIRS_data\\VIIRS_GEO\\VNP03IMG.A2022182.1854...  "
      ]
     },
     "execution_count": 8,
     "metadata": {},
     "output_type": "execute_result"
    }
   ],
   "source": [
    "matching_VIIRS_df = pd.DataFrame({\"VIIRS_fire_files\": matching_VIIRS_fires, \"VIIRS_geolocation_files\": matching_VIIRS_geolocations}) ## Create a dataframe of the matching VIIRS fire and geolocation files\n",
    "matching_VIIRS_df[:5]"
   ]
  },
  {
   "cell_type": "markdown",
   "metadata": {},
   "source": [
    "* Now we will generate VIIRS points"
   ]
  },
  {
   "cell_type": "code",
   "execution_count": null,
   "metadata": {},
   "outputs": [],
   "source": [
    "point_list = [] ## List to store the points\n",
    "for i in range(len(matching_VIIRS_fires)): ## Loop through the matching VIIRS fire and geolocation files\n",
    "    ## Generate the VIIRS points\n",
    "    VIIRS_temp_points = GOES_VIIRS_tools.generate_VIIRS_points(VIIRS_fire_path=matching_VIIRS_fires[i],\n",
    "                                       VIIRS_GEO_path=matching_VIIRS_geolocations[i], AOI_path=None) ## Generate the VIIRS points \n",
    "    point_list.append(VIIRS_temp_points) ## Append the points to the list"
   ]
  },
  {
   "cell_type": "code",
   "execution_count": 18,
   "metadata": {},
   "outputs": [
    {
     "data": {
      "text/plain": [
       "<Axes: >"
      ]
     },
     "execution_count": 18,
     "metadata": {},
     "output_type": "execute_result"
    },
    {
     "data": {
      "image/png": "[encoded data removed]",
      "text/plain": [
       "<Figure size 640x480 with 1 Axes>"
      ]
     },
     "metadata": {},
     "output_type": "display_data"
    }
   ],
   "source": [
    "gdf = pd.concat(point_list) ## Concatenate the points\n",
    "gdf.plot()"
   ]
  },
  {
   "cell_type": "code",
   "execution_count": null,
   "metadata": {},
   "outputs": [],
   "source": []
  }
 ],
 "metadata": {
  "kernelspec": {
   "display_name": "goesenv",
   "language": "python",
   "name": "python3"
  },
  "language_info": {
   "codemirror_mode": {
    "name": "ipython",
    "version": 3
   },
   "file_extension": ".py",
   "mimetype": "text/x-python",
   "name": "python",
   "nbconvert_exporter": "python",
   "pygments_lexer": "ipython3",
   "version": "3.9.16"
  }
 },
 "nbformat": 4,
 "nbformat_minor": 2
}
